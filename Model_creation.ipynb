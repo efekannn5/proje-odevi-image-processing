{
 "cells": [
  {
   "cell_type": "code",
   "execution_count": 1,
   "id": "c453391e-8896-4ce4-ae86-8ed5190fd75a",
   "metadata": {
    "tags": []
   },
   "outputs": [
    {
     "name": "stderr",
     "output_type": "stream",
     "text": [
      "Cloning into 'yolov5'...\n"
     ]
    },
    {
     "name": "stdout",
     "output_type": "stream",
     "text": [
      "Defaulting to user installation because normal site-packages is not writeable\n",
      "Requirement already satisfied: gitpython>=3.1.30 in /home/efekan/.local/lib/python3.10/site-packages (from -r requirements.txt (line 5)) (3.1.43)\n",
      "Requirement already satisfied: matplotlib>=3.3 in /home/efekan/.local/lib/python3.10/site-packages (from -r requirements.txt (line 6)) (3.8.2)\n",
      "Requirement already satisfied: numpy>=1.23.5 in /home/efekan/.local/lib/python3.10/site-packages (from -r requirements.txt (line 7)) (1.26.3)\n",
      "Requirement already satisfied: opencv-python>=4.1.1 in /home/efekan/.local/lib/python3.10/site-packages (from -r requirements.txt (line 8)) (4.9.0.80)\n",
      "Requirement already satisfied: pillow>=10.3.0 in /home/efekan/.local/lib/python3.10/site-packages (from -r requirements.txt (line 9)) (10.3.0)\n",
      "Requirement already satisfied: psutil in /home/efekan/.local/lib/python3.10/site-packages (from -r requirements.txt (line 10)) (5.9.8)\n",
      "Requirement already satisfied: PyYAML>=5.3.1 in /usr/lib/python3/dist-packages (from -r requirements.txt (line 11)) (5.4.1)\n",
      "Requirement already satisfied: requests>=2.23.0 in /home/efekan/.local/lib/python3.10/site-packages (from -r requirements.txt (line 12)) (2.31.0)\n",
      "Requirement already satisfied: scipy>=1.4.1 in /home/efekan/.local/lib/python3.10/site-packages (from -r requirements.txt (line 13)) (1.13.0)\n",
      "Requirement already satisfied: thop>=0.1.1 in /home/efekan/.local/lib/python3.10/site-packages (from -r requirements.txt (line 14)) (0.1.1.post2209072238)\n",
      "Requirement already satisfied: torch>=1.8.0 in /home/efekan/.local/lib/python3.10/site-packages (from -r requirements.txt (line 15)) (2.2.2)\n",
      "Requirement already satisfied: torchvision>=0.9.0 in /home/efekan/.local/lib/python3.10/site-packages (from -r requirements.txt (line 16)) (0.17.2)\n",
      "Requirement already satisfied: tqdm>=4.64.0 in /home/efekan/.local/lib/python3.10/site-packages (from -r requirements.txt (line 17)) (4.66.2)\n",
      "Requirement already satisfied: ultralytics>=8.0.232 in /home/efekan/.local/lib/python3.10/site-packages (from -r requirements.txt (line 18)) (8.1.42)\n",
      "Requirement already satisfied: pandas>=1.1.4 in /home/efekan/.local/lib/python3.10/site-packages (from -r requirements.txt (line 27)) (2.2.1)\n",
      "Requirement already satisfied: seaborn>=0.11.0 in /home/efekan/.local/lib/python3.10/site-packages (from -r requirements.txt (line 28)) (0.13.2)\n",
      "Requirement already satisfied: setuptools>=65.5.1 in /home/efekan/.local/lib/python3.10/site-packages (from -r requirements.txt (line 42)) (69.2.0)\n",
      "Requirement already satisfied: wheel>=0.38.0 in /home/efekan/.local/lib/python3.10/site-packages (from -r requirements.txt (line 50)) (0.43.0)\n",
      "Requirement already satisfied: packaging>=20.0 in /home/efekan/.local/lib/python3.10/site-packages (from matplotlib>=3.3->-r requirements.txt (line 6)) (23.2)\n",
      "Requirement already satisfied: fonttools>=4.22.0 in /home/efekan/.local/lib/python3.10/site-packages (from matplotlib>=3.3->-r requirements.txt (line 6)) (4.48.1)\n",
      "Requirement already satisfied: cycler>=0.10 in /home/efekan/.local/lib/python3.10/site-packages (from matplotlib>=3.3->-r requirements.txt (line 6)) (0.12.1)\n",
      "Requirement already satisfied: python-dateutil>=2.7 in /home/efekan/.local/lib/python3.10/site-packages (from matplotlib>=3.3->-r requirements.txt (line 6)) (2.8.2)\n",
      "Requirement already satisfied: pyparsing>=2.3.1 in /usr/lib/python3/dist-packages (from matplotlib>=3.3->-r requirements.txt (line 6)) (2.4.7)\n",
      "Requirement already satisfied: contourpy>=1.0.1 in /home/efekan/.local/lib/python3.10/site-packages (from matplotlib>=3.3->-r requirements.txt (line 6)) (1.2.0)\n",
      "Requirement already satisfied: kiwisolver>=1.3.1 in /home/efekan/.local/lib/python3.10/site-packages (from matplotlib>=3.3->-r requirements.txt (line 6)) (1.4.5)\n",
      "Requirement already satisfied: urllib3<3,>=1.21.1 in /home/efekan/.local/lib/python3.10/site-packages (from requests>=2.23.0->-r requirements.txt (line 12)) (2.2.0)\n",
      "Requirement already satisfied: idna<4,>=2.5 in /home/efekan/.local/lib/python3.10/site-packages (from requests>=2.23.0->-r requirements.txt (line 12)) (3.6)\n",
      "Requirement already satisfied: charset-normalizer<4,>=2 in /home/efekan/.local/lib/python3.10/site-packages (from requests>=2.23.0->-r requirements.txt (line 12)) (3.3.2)\n",
      "Requirement already satisfied: certifi>=2017.4.17 in /home/efekan/.local/lib/python3.10/site-packages (from requests>=2.23.0->-r requirements.txt (line 12)) (2024.2.2)\n",
      "Requirement already satisfied: nvidia-nvtx-cu12==12.1.105 in /home/efekan/.local/lib/python3.10/site-packages (from torch>=1.8.0->-r requirements.txt (line 15)) (12.1.105)\n",
      "Requirement already satisfied: triton==2.2.0 in /home/efekan/.local/lib/python3.10/site-packages (from torch>=1.8.0->-r requirements.txt (line 15)) (2.2.0)\n",
      "Requirement already satisfied: nvidia-cusolver-cu12==11.4.5.107 in /home/efekan/.local/lib/python3.10/site-packages (from torch>=1.8.0->-r requirements.txt (line 15)) (11.4.5.107)\n",
      "Requirement already satisfied: nvidia-cublas-cu12==12.1.3.1 in /home/efekan/.local/lib/python3.10/site-packages (from torch>=1.8.0->-r requirements.txt (line 15)) (12.1.3.1)\n",
      "Requirement already satisfied: nvidia-cuda-nvrtc-cu12==12.1.105 in /home/efekan/.local/lib/python3.10/site-packages (from torch>=1.8.0->-r requirements.txt (line 15)) (12.1.105)\n",
      "Requirement already satisfied: fsspec in /home/efekan/.local/lib/python3.10/site-packages (from torch>=1.8.0->-r requirements.txt (line 15)) (2024.3.1)\n",
      "Requirement already satisfied: nvidia-cusparse-cu12==12.1.0.106 in /home/efekan/.local/lib/python3.10/site-packages (from torch>=1.8.0->-r requirements.txt (line 15)) (12.1.0.106)\n",
      "Requirement already satisfied: nvidia-nccl-cu12==2.19.3 in /home/efekan/.local/lib/python3.10/site-packages (from torch>=1.8.0->-r requirements.txt (line 15)) (2.19.3)\n",
      "Requirement already satisfied: nvidia-cufft-cu12==11.0.2.54 in /home/efekan/.local/lib/python3.10/site-packages (from torch>=1.8.0->-r requirements.txt (line 15)) (11.0.2.54)\n",
      "Requirement already satisfied: typing-extensions>=4.8.0 in /home/efekan/.local/lib/python3.10/site-packages (from torch>=1.8.0->-r requirements.txt (line 15)) (4.9.0)\n",
      "Requirement already satisfied: nvidia-cuda-runtime-cu12==12.1.105 in /home/efekan/.local/lib/python3.10/site-packages (from torch>=1.8.0->-r requirements.txt (line 15)) (12.1.105)\n",
      "Requirement already satisfied: nvidia-cuda-cupti-cu12==12.1.105 in /home/efekan/.local/lib/python3.10/site-packages (from torch>=1.8.0->-r requirements.txt (line 15)) (12.1.105)\n",
      "Requirement already satisfied: filelock in /home/efekan/.local/lib/python3.10/site-packages (from torch>=1.8.0->-r requirements.txt (line 15)) (3.13.3)\n",
      "Requirement already satisfied: nvidia-cudnn-cu12==8.9.2.26 in /home/efekan/.local/lib/python3.10/site-packages (from torch>=1.8.0->-r requirements.txt (line 15)) (8.9.2.26)\n",
      "Requirement already satisfied: nvidia-curand-cu12==10.3.2.106 in /home/efekan/.local/lib/python3.10/site-packages (from torch>=1.8.0->-r requirements.txt (line 15)) (10.3.2.106)\n",
      "Requirement already satisfied: jinja2 in /home/efekan/.local/lib/python3.10/site-packages (from torch>=1.8.0->-r requirements.txt (line 15)) (3.1.3)\n",
      "Requirement already satisfied: networkx in /home/efekan/.local/lib/python3.10/site-packages (from torch>=1.8.0->-r requirements.txt (line 15)) (3.2.1)\n",
      "Requirement already satisfied: sympy in /home/efekan/.local/lib/python3.10/site-packages (from torch>=1.8.0->-r requirements.txt (line 15)) (1.12)\n",
      "Requirement already satisfied: nvidia-nvjitlink-cu12 in /home/efekan/.local/lib/python3.10/site-packages (from nvidia-cusolver-cu12==11.4.5.107->torch>=1.8.0->-r requirements.txt (line 15)) (12.2.140)\n",
      "Requirement already satisfied: py-cpuinfo in /home/efekan/.local/lib/python3.10/site-packages (from ultralytics>=8.0.232->-r requirements.txt (line 18)) (9.0.0)\n",
      "Requirement already satisfied: tzdata>=2022.7 in /home/efekan/.local/lib/python3.10/site-packages (from pandas>=1.1.4->-r requirements.txt (line 27)) (2024.1)\n",
      "Requirement already satisfied: pytz>=2020.1 in /home/efekan/.local/lib/python3.10/site-packages (from pandas>=1.1.4->-r requirements.txt (line 27)) (2024.1)\n",
      "Requirement already satisfied: six>=1.5 in /usr/lib/python3/dist-packages (from python-dateutil>=2.7->matplotlib>=3.3->-r requirements.txt (line 6)) (1.16.0)\n",
      "Requirement already satisfied: MarkupSafe>=2.0 in /home/efekan/.local/lib/python3.10/site-packages (from jinja2->torch>=1.8.0->-r requirements.txt (line 15)) (2.1.5)\n",
      "Requirement already satisfied: mpmath>=0.19 in /home/efekan/.local/lib/python3.10/site-packages (from sympy->torch>=1.8.0->-r requirements.txt (line 15)) (1.3.0)\n"
     ]
    }
   ],
   "source": [
    "%%bash\n",
    "git clone https://github.com/ultralytics/yolov5\n",
    "cd yolov5 \n",
    "pip install -r requirements.txt"
   ]
  },
  {
   "cell_type": "code",
   "execution_count": null,
   "id": "275fdccc-77fa-40e3-9423-6f5f8705f01a",
   "metadata": {},
   "outputs": [],
   "source": [
    "from preprocessing import convert_voc_to_yolo"
   ]
  },
  {
   "cell_type": "code",
   "execution_count": null,
   "id": "4f4f7ee5-4c5c-403a-8962-290f5f96d0c2",
   "metadata": {},
   "outputs": [],
   "source": [
    "convert_voc_to_yolo()"
   ]
  },
  {
   "cell_type": "code",
   "execution_count": null,
   "id": "a1a535ea-28f1-46c8-9fc7-46bd656b0d5f",
   "metadata": {},
   "outputs": [],
   "source": [
    "%%bash\n",
    "cp yolov5/data/VOC.yaml yolov5/VOC.yaml "
   ]
  },
  {
   "cell_type": "code",
   "execution_count": null,
   "id": "66f4a2f7-8197-41d0-9fe7-5d72eea3cfd0",
   "metadata": {},
   "outputs": [],
   "source": [
    "# # Write out this YAML\n",
    "# path: ../data\n",
    "# train: # train images (relative to 'path')  16551 images\n",
    "#   - images\n",
    "# val: # val images (relative to 'path')  4952 images\n",
    "#   - images\n",
    "\n",
    "# # Classes\n",
    "# names:\n",
    "#   0: trafficlight\n",
    "#   1: speedlimit\n",
    "#   2: crosswalk\n",
    "#   3: stop"
   ]
  },
  {
   "cell_type": "code",
   "execution_count": null,
   "id": "593aa5ae-6fe0-4c4e-a167-e7e18e06f551",
   "metadata": {},
   "outputs": [],
   "source": [
    "import torch\n",
    "from matplotlib import pyplot as plt\n",
    "import numpy as np\n",
    "import cv2\n",
    "import itertools\n",
    "import os "
   ]
  },
  {
   "cell_type": "code",
   "execution_count": null,
   "id": "39285c91-7886-45ac-8f1b-45919085966a",
   "metadata": {
    "tags": []
   },
   "outputs": [],
   "source": [
    "# burayı konsolda calıstırmak gerekıyor. \n",
    "# dıkkat edılmesı gereken yer konsolun calsıtıgı dosya yolov5 dosyasının ıcı olduguna emın olunması gerekıyor.\n",
    "%%bash\n",
    "cd yolov5 \n",
    "python train.py --img 320 --batch 16 --epochs 500 --data customVOC.yaml --weights yolov5s.pt --workers 2"
   ]
  },
  {
   "cell_type": "code",
   "execution_count": null,
   "id": "60f2abe5-1fb8-4037-bf6d-487bd4e82dbc",
   "metadata": {
    "tags": []
   },
   "outputs": [],
   "source": [
    "model = torch.hub.load('ultralytics/yolov5', 'custom', path='yolov5/runs/train/exp5/weights/best.pt', force_reload=True)"
   ]
  },
  {
   "cell_type": "code",
   "execution_count": null,
   "id": "5973673d-ec96-4003-a49f-bbb4cc601057",
   "metadata": {},
   "outputs": [],
   "source": [
    "# en son modelınızı buradan kontrol edebılırsınız.\n",
    "%matplotlib inline\n",
    "fig, ax = plt.subplots(2,4, figsize=(20,10))\n",
    "imgs = os.listdir('./data/images')\n",
    "\n",
    "for idx in itertools.product(range(2),range(4)): \n",
    "    imgname = np.random.choice(imgs)\n",
    "    img = cv2.imread(f'./data/images/{imgname}')\n",
    "    results = model(img)\n",
    "    ax[idx[0],idx[1]].imshow(cv2.cvtColor(np.squeeze(results.render()), cv2.COLOR_BGR2RGB))"
   ]
  }
 ],
 "metadata": {
  "kernelspec": {
   "display_name": "Python 3 (ipykernel)",
   "language": "python",
   "name": "python3"
  },
  "language_info": {
   "codemirror_mode": {
    "name": "ipython",
    "version": 3
   },
   "file_extension": ".py",
   "mimetype": "text/x-python",
   "name": "python",
   "nbconvert_exporter": "python",
   "pygments_lexer": "ipython3",
   "version": "3.10.0"
  }
 },
 "nbformat": 4,
 "nbformat_minor": 5
}
